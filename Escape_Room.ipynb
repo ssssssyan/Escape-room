{
  "nbformat": 4,
  "nbformat_minor": 0,
  "metadata": {
    "colab": {
      "name": "Escape Room.ipynb",
      "version": "0.3.2",
      "provenance": [],
      "collapsed_sections": [],
      "toc_visible": true,
      "include_colab_link": true
    },
    "kernelspec": {
      "name": "python3",
      "display_name": "Python 3"
    }
  },
  "cells": [
    {
      "cell_type": "markdown",
      "metadata": {
        "id": "view-in-github",
        "colab_type": "text"
      },
      "source": [
        "<a href=\"https://colab.research.google.com/github/ssssssyan/Game-Night/blob/master/Escape_Room.ipynb\" target=\"_parent\"><img src=\"https://colab.research.google.com/assets/colab-badge.svg\" alt=\"Open In Colab\"/></a>"
      ]
    },
    {
      "cell_type": "markdown",
      "metadata": {
        "id": "SPgznl8BUX84",
        "colab_type": "text"
      },
      "source": [
        "# **Game Night: Escape Room**\n",
        "\n",
        "---\n",
        "\n"
      ]
    },
    {
      "cell_type": "markdown",
      "metadata": {
        "id": "QwBinGTSYVy5",
        "colab_type": "text"
      },
      "source": [
        "http://bburl/gamenight0627"
      ]
    },
    {
      "cell_type": "markdown",
      "metadata": {
        "id": "wYYvx-KxUxQJ",
        "colab_type": "text"
      },
      "source": [
        "# Agenda\n"
      ]
    },
    {
      "cell_type": "markdown",
      "metadata": {
        "id": "5QhRPD2IUz-Y",
        "colab_type": "text"
      },
      "source": [
        "**1.   Instructor Introduction**\n",
        "\n",
        "**2.   Game demo**\n",
        "\n",
        "**3.   Python basics**\n",
        "\n",
        "**4.   Build your own game**"
      ]
    },
    {
      "cell_type": "markdown",
      "metadata": {
        "id": "tEEGOS2iSugd",
        "colab_type": "text"
      },
      "source": [
        "# Game Demo\n"
      ]
    },
    {
      "cell_type": "markdown",
      "metadata": {
        "id": "lD4DAzxdFi0h",
        "colab_type": "text"
      },
      "source": [
        "Complete Game:"
      ]
    },
    {
      "cell_type": "code",
      "metadata": {
        "id": "EePrg7flZuYJ",
        "colab_type": "code",
        "cellView": "form",
        "colab": {}
      },
      "source": [
        "#@title\n",
        "def printWelcomeMessage():\n",
        "  print('''\n",
        "Escape Room\n",
        "========================\n",
        "Find the exit!\n",
        "Commands:\n",
        "    go   <PLACE>\n",
        "    get  <ITEM>\n",
        "''')\n",
        "\n",
        "def printStatus(current_place, inventory, game_map):\n",
        "  print('\\n--------------------')\n",
        "  print('You are in', current_place)\n",
        "  print('You can go to:', ', '.join(game_map[current_place]['neighbors']))\n",
        "  print('You can see:', ', '.join(game_map[current_place]['items']))\n",
        "  print('Inventory:', ', '.join(inventory))\n",
        "  print('--------------------\\n')\n",
        "\n",
        "\n",
        "def readInput():\n",
        "  playerInput = input('>').lower().split()\n",
        "  while not len(playerInput) == 2:\n",
        "    playerInput = input('>').lower().split()\n",
        "  return playerInput\n",
        "\n",
        "# Section 1: Game Map\n",
        "game_map = {\n",
        "  # 21F\n",
        "  'mpr': {\n",
        "    'neighbors': {'pantry'},\n",
        "    'items': {'badge'}\n",
        "  },\n",
        "  'pantry': {\n",
        "    'neighbors': {'mpr', 'frontdesk'},\n",
        "    'items': {'coffee'}\n",
        "  },\n",
        "  'frontdesk': {\n",
        "    'neighbors': {'pantry', 'exit'},\n",
        "    'items': set()\n",
        "  },\n",
        "  'exit':  {\n",
        "    'neighbors': {'frontdesk'},\n",
        "    'items': set()\n",
        "  }\n",
        "}\n",
        "\n",
        "exit_items = {'badge', 'coffee'}\n",
        "\n",
        "# Section 2: Player variables\n",
        "current_place = 'mpr'\n",
        "inventory = set()\n",
        "escaped = False\n",
        "\n",
        "# Section 3: Welcome Message\n",
        "printWelcomeMessage()\n",
        "\n",
        "# Section 4: Game logic\n",
        "while not escaped:\n",
        "  # Section 4.1: Display current status\n",
        "  printStatus(current_place, inventory, game_map)\n",
        "  # Section 4.2: Read in player input\n",
        "  action, option = readInput()\n",
        "\n",
        "  # Section 4.3: Handle 'go' action\n",
        "  if action == 'go':\n",
        "    neighbors = game_map[current_place]['neighbors']\n",
        "    if option in neighbors:\n",
        "      if option in game_map:\n",
        "        current_place = option\n",
        "      else:\n",
        "        print('Destination does not exist in map!')\n",
        "    else:\n",
        "      print('Destination is not next to current place!')\n",
        "  \n",
        "  # Section 4.4: Handle 'get' action\n",
        "  elif action == 'get':\n",
        "    items = game_map[current_place]['items']\n",
        "    if option in items:\n",
        "      inventory.add(option)\n",
        "      items.remove(option)\n",
        "    else:\n",
        "      print('There is no', option, 'here!')\n",
        "  \n",
        "  # Section 4.5: Handle invalid action\n",
        "  else:\n",
        "    print('Invalid action.')\n",
        "    \n",
        "  # Section 4.6: Winning\n",
        "  if current_place == 'exit':\n",
        "    if exit_items.issubset(inventory):\n",
        "      print('Hooray! You escaped!')\n",
        "      escaped = True\n",
        "    else:\n",
        "      print('You need', exit_items, 'to leave!')"
      ],
      "execution_count": 0,
      "outputs": []
    },
    {
      "cell_type": "markdown",
      "metadata": {
        "id": "1xr1JL2ITNYf",
        "colab_type": "text"
      },
      "source": [
        "![Game flowchart](https://github.com/ssssssyan/Game-Night/raw/master/flowchart.png)"
      ]
    },
    {
      "cell_type": "markdown",
      "metadata": {
        "id": "Qy_vLnIEjHKZ",
        "colab_type": "text"
      },
      "source": [
        "Skeleton Code is [here](https://trinket.io/python3/556c991346)"
      ]
    },
    {
      "cell_type": "markdown",
      "metadata": {
        "id": "JmBUuYzlkN_4",
        "colab_type": "text"
      },
      "source": [
        "# Python Basics\n"
      ]
    },
    {
      "cell_type": "markdown",
      "metadata": {
        "id": "ANniYXbTqNM6",
        "colab_type": "text"
      },
      "source": [
        "## Expression\n"
      ]
    },
    {
      "cell_type": "markdown",
      "metadata": {
        "id": "2tpQZJTSdtzQ",
        "colab_type": "text"
      },
      "source": [
        "**Expressions consist of *values* and *operators*, and they can always *evaluates* down to a single value.**\n",
        "\n",
        "`2 + 1` is an *expression*. `2` and `1` are *values*, `+` is an operator, and this expression *evaluates* to 3.\n"
      ]
    },
    {
      "cell_type": "markdown",
      "metadata": {
        "id": "a-2FdV5V01Ot",
        "colab_type": "text"
      },
      "source": [
        "## Value Types\n"
      ]
    },
    {
      "cell_type": "markdown",
      "metadata": {
        "id": "wUHfibJi05KP",
        "colab_type": "text"
      },
      "source": [
        "A *value* can be of different *types*. Common types are *Integer* and *Strings*."
      ]
    },
    {
      "cell_type": "markdown",
      "metadata": {
        "id": "qPJxhwEX1MaS",
        "colab_type": "text"
      },
      "source": [
        "Type | Example\n",
        "--- | ---\n",
        "Integers | -2, -1, 0, 1, 2, 3, 4, 5\n",
        "Strings | 'a', 'aa', 'aaa', 'Hello!', 'A loooooooooooooooooooong string'"
      ]
    },
    {
      "cell_type": "code",
      "metadata": {
        "id": "xKYoI03uHWEv",
        "colab_type": "code",
        "outputId": "a5eb523b-70f0-4b5c-9b87-b0962e124108",
        "colab": {
          "base_uri": "https://localhost:8080/",
          "height": 50
        }
      },
      "source": [
        "# number\n",
        "123\n",
        "# sting\n",
        "'123'\n",
        "\n",
        "print(123 * 3)\n",
        "print('123' * 3)"
      ],
      "execution_count": 0,
      "outputs": [
        {
          "output_type": "stream",
          "text": [
            "369\n",
            "123123123\n"
          ],
          "name": "stdout"
        }
      ]
    },
    {
      "cell_type": "markdown",
      "metadata": {
        "id": "S-vcNfkfWLsU",
        "colab_type": "text"
      },
      "source": [
        "## Variable"
      ]
    },
    {
      "cell_type": "markdown",
      "metadata": {
        "id": "TGI8NHpBX3cL",
        "colab_type": "text"
      },
      "source": [
        "**A variable is like a box in the computer’s memory where you can store a single value. If you want to use the result of an evaluated expression later in your program, you can save it inside a variable** "
      ]
    },
    {
      "cell_type": "markdown",
      "metadata": {
        "id": "wEGDXYmqkptT",
        "colab_type": "text"
      },
      "source": [
        "![](https://automatetheboringstuff.com/images/000060.jpg)"
      ]
    },
    {
      "cell_type": "code",
      "metadata": {
        "id": "9n8ffjUmlxYv",
        "colab_type": "code",
        "colab": {}
      },
      "source": [
        "current_place = 'mpr'\n",
        "print(current_place)\n",
        "current_place = 'pantry'\n",
        "print(current_place)\n",
        "\n",
        "# can be different type\n",
        "my_number = 123\n",
        "my_set = {1, 2, 3}"
      ],
      "execution_count": 0,
      "outputs": []
    },
    {
      "cell_type": "markdown",
      "metadata": {
        "id": "JX7jjm042_Fs",
        "colab_type": "text"
      },
      "source": [
        "## Print() Function\n"
      ]
    },
    {
      "cell_type": "markdown",
      "metadata": {
        "id": "TB6wtqUf3CA5",
        "colab_type": "text"
      },
      "source": [
        "**The `print()` function displays the string value inside the parentheses on the screen.**"
      ]
    },
    {
      "cell_type": "code",
      "metadata": {
        "id": "QwSWMcBO3Q8g",
        "colab_type": "code",
        "colab": {}
      },
      "source": [
        "print('Hello')\n",
        "\n",
        "integer = 1 # '1'\n",
        "print(integer)  # print() converts integer 1 into string '1'\n",
        "\n",
        "age = 72\n",
        "print('I am', age, 'years old.')  # combine string with variable"
      ],
      "execution_count": 0,
      "outputs": []
    },
    {
      "cell_type": "markdown",
      "metadata": {
        "id": "vFhGr982nGKl",
        "colab_type": "text"
      },
      "source": [
        "## Boolean Values\n"
      ]
    },
    {
      "cell_type": "markdown",
      "metadata": {
        "id": "19f8KDIOpvSh",
        "colab_type": "text"
      },
      "source": [
        "Unlike the common *value types*, Boolean type has only two values: **`True`** and **`False`**.\n",
        "Boolean values are used in expressions and can be stored in variables.\n",
        "\n"
      ]
    },
    {
      "cell_type": "markdown",
      "metadata": {
        "id": "v8oGCXWntrMo",
        "colab_type": "text"
      },
      "source": [
        "## Boolean Operators"
      ]
    },
    {
      "cell_type": "markdown",
      "metadata": {
        "id": "xfAjMERit1gp",
        "colab_type": "text"
      },
      "source": [
        "**`and` operator: Takes two Boolean values (or expression). Evaluates an expression to `True` if *both* Boolean evaluates to `True`, otherwise, it evaluates to `False`**"
      ]
    },
    {
      "cell_type": "markdown",
      "metadata": {
        "colab_type": "text",
        "id": "8vokinvJHJ3d"
      },
      "source": [
        "**`or` operator: Takes two Boolean values (or expression). Evaluates an expression to `True` if *either* of the Boolean values is `True`. If both are `False`, it evaluates to `False`**"
      ]
    },
    {
      "cell_type": "markdown",
      "metadata": {
        "colab_type": "text",
        "id": "Izf0PsqMHJif"
      },
      "source": [
        "**`not` operator: Takes only one Boolean value (or expression). Evaluates to the opposite Boolean value.**"
      ]
    },
    {
      "cell_type": "code",
      "metadata": {
        "id": "A8IeycIluDls",
        "colab_type": "code",
        "colab": {}
      },
      "source": [
        "current_place = 'pantry'\n",
        "item = 'coffee'\n",
        "\n",
        "print(current_place == 'pantry' and item == 'coffee')\n",
        "print(current_place == 'mpr' and item == 'coffee')\n",
        "\n",
        "print(current_place == 'pantry' or item == 'coffee')\n",
        "print(current_place == 'mpr' or item == 'coffee')\n",
        "\n",
        "print(not current_place == 'pantry')\n",
        "print(not not current_place == 'pantry')"
      ],
      "execution_count": 0,
      "outputs": []
    },
    {
      "cell_type": "markdown",
      "metadata": {
        "id": "rY0AR8oaV705",
        "colab_type": "text"
      },
      "source": [
        "## Flow Control"
      ]
    },
    {
      "cell_type": "markdown",
      "metadata": {
        "id": "THVGxkEcV-KV",
        "colab_type": "text"
      },
      "source": [
        "Use *flow control statements* to express logical conditions and to control order of code execution.\n",
        "\n",
        "Examples:\n",
        "\n",
        "\n",
        "*   If `condition`, execute code `A`, otherwise execute code `B`.\n",
        "*   While `condition` is true, keep executing code `A`.\n",
        "\n",
        "\n"
      ]
    },
    {
      "cell_type": "markdown",
      "metadata": {
        "id": "3cQnOj0andcM",
        "colab_type": "text"
      },
      "source": [
        "### Conditions & Block of Code"
      ]
    },
    {
      "cell_type": "markdown",
      "metadata": {
        "id": "DNn5BNeQv6xU",
        "colab_type": "text"
      },
      "source": [
        "Flow control statements often starts with a *condition*. A condition can be an Boolean expression, or a Boolean value.\n",
        "A flow control statement decides what to do based on whether its condition is `True` or `False`."
      ]
    },
    {
      "cell_type": "code",
      "metadata": {
        "id": "RIwc9CcLwoS6",
        "colab_type": "code",
        "colab": {}
      },
      "source": [
        "action = 'go'\n",
        "if action == 'go':  # condition: value of action is 'go'\n",
        "  print('Player typed GO')"
      ],
      "execution_count": 0,
      "outputs": []
    },
    {
      "cell_type": "markdown",
      "metadata": {
        "id": "1zawV2Pixjpo",
        "colab_type": "text"
      },
      "source": [
        "After condition, flow control statements are followed by a block of code called *clause*. \n",
        "\n",
        "Block of code begins when the indentation incerases and ends when indentation decreases.\n",
        "\n"
      ]
    },
    {
      "cell_type": "markdown",
      "metadata": {
        "id": "S52ITjrVxTLQ",
        "colab_type": "text"
      },
      "source": [
        "### If Statement\n"
      ]
    },
    {
      "cell_type": "markdown",
      "metadata": {
        "id": "FCTpd5pZxVcg",
        "colab_type": "text"
      },
      "source": [
        "**If this condition is true, execute the code in the clause.**\n",
        "\n",
        "Syntax: \n",
        "1.   `if` keyword\n",
        "2.   A condition\n",
        "3.   A colon **:**\n",
        "4.   Starting on the next line, a block of code called `if` clause.\n",
        "\n"
      ]
    },
    {
      "cell_type": "code",
      "metadata": {
        "id": "BHMLznWgzhkI",
        "colab_type": "code",
        "colab": {}
      },
      "source": [
        "action = 'go'\n",
        "if action == 'go': \n",
        "  print('Player typed GO')\n",
        "if action == 'get':\n",
        "  print('Player typed GET')"
      ],
      "execution_count": 0,
      "outputs": []
    },
    {
      "cell_type": "markdown",
      "metadata": {
        "id": "ouseIJEIy8pF",
        "colab_type": "text"
      },
      "source": [
        "If statement can be nested."
      ]
    },
    {
      "cell_type": "code",
      "metadata": {
        "id": "2il1f_11yHsh",
        "colab_type": "code",
        "colab": {}
      },
      "source": [
        "action = 'go'\n",
        "option = 'mpr'\n",
        "if action == 'go':\n",
        "  print('Player typed GO') \n",
        "  if option == 'mpr':\n",
        "    print('Player typed GO MPR')"
      ],
      "execution_count": 0,
      "outputs": []
    },
    {
      "cell_type": "markdown",
      "metadata": {
        "id": "QFnb5SMLzz3N",
        "colab_type": "text"
      },
      "source": [
        "### Else Statement"
      ]
    },
    {
      "cell_type": "markdown",
      "metadata": {
        "id": "XKV8mMdrz2St",
        "colab_type": "text"
      },
      "source": [
        "Optionally used after `if` statement. \n",
        "\n",
        "**If this condition is true, execute this code. Or else, execute another code**\n",
        "\n",
        "Syntax:\n",
        "\n",
        "\n",
        "1.   `if` statement\n",
        "2.   `else` keyword\n",
        "3.   A colon **:**\n",
        "4.   Starting on the next line, a block of code called `else` clause.\n",
        "\n"
      ]
    },
    {
      "cell_type": "code",
      "metadata": {
        "id": "EHV73vVy0GGF",
        "colab_type": "code",
        "colab": {}
      },
      "source": [
        "action = 'get'\n",
        "if action == 'go':\n",
        "  print('Player typed GO')\n",
        "else:\n",
        "  print('Invalid action')\n",
        "  "
      ],
      "execution_count": 0,
      "outputs": []
    },
    {
      "cell_type": "markdown",
      "metadata": {
        "id": "yibHLjsh0xRA",
        "colab_type": "text"
      },
      "source": [
        "### Elif Statement"
      ]
    },
    {
      "cell_type": "markdown",
      "metadata": {
        "id": "VXARH2Kk089n",
        "colab_type": "text"
      },
      "source": [
        "Means \"else if\". Optionally used after `if` statement, but before `else` statement.\n",
        "\n",
        "**If the previous condition is false, and this conditon is true, execute this code.**\n",
        "\n",
        "Syntax:\n",
        "\n",
        "\n",
        "1.   `if` statement\n",
        "2.   `elif` keyword\n",
        "3.   A colon **:**\n",
        "4.   Starting on the next line, a block of code called `elif` clause.\n",
        "\n"
      ]
    },
    {
      "cell_type": "code",
      "metadata": {
        "id": "3rwBBL2F1ucs",
        "colab_type": "code",
        "colab": {}
      },
      "source": [
        "action = 'go'\n",
        "if action == 'go':\n",
        "  print('Player typed GO')\n",
        "elif action == 'get':\n",
        "  print('Player typed GET')\n",
        "else:\n",
        "  print('Invalid action')"
      ],
      "execution_count": 0,
      "outputs": []
    },
    {
      "cell_type": "markdown",
      "metadata": {
        "id": "0stOGiS2W16-",
        "colab_type": "text"
      },
      "source": [
        "### While Loop"
      ]
    },
    {
      "cell_type": "markdown",
      "metadata": {
        "id": "uaFN9BPU2cyR",
        "colab_type": "text"
      },
      "source": [
        "**While condition is `True`, execute a block of code over and over and over and over (and over) again.**\n",
        "\n",
        "Syntax:\n",
        "\n",
        "\n",
        "1.   `while` keyword\n",
        "2.   A condition\n",
        "3.   A colon **:**\n",
        "4. Starting on the next line, a block of code called `while` clause\n",
        "\n"
      ]
    },
    {
      "cell_type": "code",
      "metadata": {
        "id": "owuTV80F3i51",
        "colab_type": "code",
        "colab": {}
      },
      "source": [
        "my_number = 1\n",
        "\n",
        "# Print the number until it is larger or equal to 10\n",
        "while my_number < 10:\n",
        "  print(my_number)\n",
        "  my_number = my_number + 1\n",
        "  "
      ],
      "execution_count": 0,
      "outputs": []
    },
    {
      "cell_type": "markdown",
      "metadata": {
        "id": "d2wi7E5DgIxC",
        "colab_type": "text"
      },
      "source": [
        "### Hands On Exercise 1"
      ]
    },
    {
      "cell_type": "markdown",
      "metadata": {
        "id": "XpgKL1ROgUNX",
        "colab_type": "text"
      },
      "source": [
        "Start from [here](https://trinket.io/python3/556c991346).\n",
        "\n",
        "1. Detect when player typed 'GET \\<ITEM\\>'\n",
        ">In Section 4.4, write a `elif` condition for handling GET actions. Inside the condition clause, print out the player action and option for now.\n",
        "\n",
        "\n",
        "2. Why do we need to use `elif` instead of `if` in Question 1?"
      ]
    },
    {
      "cell_type": "markdown",
      "metadata": {
        "id": "vobR52ajil9E",
        "colab_type": "text"
      },
      "source": [
        "Exercise Answer is [here](https://trinket.io/python3/37e6a55a92)\n"
      ]
    },
    {
      "cell_type": "markdown",
      "metadata": {
        "id": "JEE4VSOzjnA3",
        "colab_type": "text"
      },
      "source": [
        "### Hands On Exercise 2"
      ]
    },
    {
      "cell_type": "markdown",
      "metadata": {
        "id": "0iMdjtnojqXS",
        "colab_type": "text"
      },
      "source": [
        "1. Detect when player reaches exit:\n",
        "> In Section 4.6, write a condition to test if the current place is 'exit'.Inside the condition clause,  print a message that says 'Hooray! You escaped!'\n",
        "\n",
        "2. Stop the game when player reaches exit:\n",
        "> Look at the while condition at the of Section 4. \n",
        "> In Section 4.6, after printing the winning message, modify the variable used in while condition to make the game stop."
      ]
    },
    {
      "cell_type": "markdown",
      "metadata": {
        "id": "0uM8aFXOlj9f",
        "colab_type": "text"
      },
      "source": [
        "Exercise answer is [here](https://trinket.io/python3/6fcac7644b)"
      ]
    },
    {
      "cell_type": "markdown",
      "metadata": {
        "id": "FycsDAiQWd6M",
        "colab_type": "text"
      },
      "source": [
        "## Python Collection\n"
      ]
    },
    {
      "cell_type": "markdown",
      "metadata": {
        "id": "C1ZAdcOFWp_9",
        "colab_type": "text"
      },
      "source": [
        "### Dictionary"
      ]
    },
    {
      "cell_type": "markdown",
      "metadata": {
        "id": "krrJ1yMyrYuT",
        "colab_type": "text"
      },
      "source": [
        "*Dictionary* provies a flxible way to access and organise data. **A *dictionary* is a collection of *key-value pair*.**\n"
      ]
    },
    {
      "cell_type": "markdown",
      "metadata": {
        "id": "-JhGv7fOuvty",
        "colab_type": "text"
      },
      "source": [
        "Syntax to create a *dictionary*:\n",
        "\n",
        "\n",
        "1.   A dictionary begin with an opening curly breacket **{** and ends with a closing curly bracket **}**.\n",
        "2.   Each *key-value pair* begins with *key*, followed by a colon **:** and ends with a *value*.\n",
        "3.  *key-value pairs* are separated by commas.\n",
        "\n"
      ]
    },
    {
      "cell_type": "code",
      "metadata": {
        "id": "SsCgsIy8tgKK",
        "colab_type": "code",
        "colab": {}
      },
      "source": [
        "AAPL = {\n",
        "    'price': 108.23,\n",
        "    'volume': 24234432\n",
        "}\n",
        "\n",
        "# nested dictionary\n",
        "my_stocks = {\n",
        "    'AAPL': {\n",
        "        'price': 108.23,\n",
        "        'volume': 24234432\n",
        "    },\n",
        "    'IBM': {\n",
        "        'price': 99.23,\n",
        "        'volume': 23492342\n",
        "    }\n",
        "}"
      ],
      "execution_count": 0,
      "outputs": []
    },
    {
      "cell_type": "code",
      "metadata": {
        "id": "8TwjRIcFoQ7S",
        "colab_type": "code",
        "colab": {}
      },
      "source": [
        "# Use a dictionary to describe game map\n",
        "mpr = {\n",
        "    'neighbor': 'pantry',\n",
        "    'item': 'mic'\n",
        "}\n",
        "\n",
        "game_map = {\n",
        "    'mpr': {\n",
        "        'neighbor': 'pantry',\n",
        "        'item': 'mic'\n",
        "    },\n",
        "    'pantry': {\n",
        "        'neighbor': 'mpr',\n",
        "        'item': 'coffee'\n",
        "    }\n",
        "}"
      ],
      "execution_count": 0,
      "outputs": []
    },
    {
      "cell_type": "markdown",
      "metadata": {
        "id": "hC0m17G5vz1I",
        "colab_type": "text"
      },
      "source": [
        "*Values* in *dictionaries* can be directly accessed if you know the *keys*, using the syntax `dictionary[key]`"
      ]
    },
    {
      "cell_type": "code",
      "metadata": {
        "id": "sb3Nn81fvzhz",
        "colab_type": "code",
        "colab": {}
      },
      "source": [
        "game_map = {\n",
        "    'mpr': {\n",
        "        'neighbor': 'pantry',\n",
        "        'item': 'mic'\n",
        "    },\n",
        "    'pantry': {\n",
        "        'neighbor': 'mpr',\n",
        "        'item': 'coffee'\n",
        "    }\n",
        "}\n",
        "\n",
        "print(game_map['mpr']['item'])\n",
        "\n",
        "# Can access using key stored in variable\n",
        "current_place = 'mpr'\n",
        "print(game_map[current_place]['item'])"
      ],
      "execution_count": 0,
      "outputs": []
    },
    {
      "cell_type": "markdown",
      "metadata": {
        "id": "C7WtEBxgxOkk",
        "colab_type": "text"
      },
      "source": [
        "To check if a *key* is inside a *dctionary*, use the `in` and `not in` operators."
      ]
    },
    {
      "cell_type": "code",
      "metadata": {
        "id": "1VpKq6QqxOQv",
        "colab_type": "code",
        "colab": {}
      },
      "source": [
        "game_map = {\n",
        "    'mpr': {\n",
        "        'neighbor': 'pantry',\n",
        "        'item': 'mic'\n",
        "    },\n",
        "    'pantry': {\n",
        "        'neighbor': 'mpr',\n",
        "        'item': 'coffee'\n",
        "    }\n",
        "}\n",
        "\n",
        "action = 'go'\n",
        "option = 'pantry'\n",
        "current_place = 'mpr'\n",
        "\n",
        "if action == 'go':\n",
        "  if option in game_map:\n",
        "    current_place = option\n",
        "    print('You moved to', current_place)\n",
        "  if option not in game_map:\n",
        "    print('Destination does not exist!')"
      ],
      "execution_count": 0,
      "outputs": []
    },
    {
      "cell_type": "markdown",
      "metadata": {
        "id": "D9rEv3PVeejq",
        "colab_type": "text"
      },
      "source": [
        "### Set"
      ]
    },
    {
      "cell_type": "markdown",
      "metadata": {
        "id": "8Q8iuXOhfNmJ",
        "colab_type": "text"
      },
      "source": [
        "**A *set* is a value that contains multiple unordered unqiue values. Values inside a set are called *items*.**"
      ]
    },
    {
      "cell_type": "markdown",
      "metadata": {
        "id": "Lv27VV2_fyF8",
        "colab_type": "text"
      },
      "source": [
        "Syntax to create a *set*:\n",
        "\n",
        "\n",
        "1.   A *set* begin with an opening curly breacket **{** and ends with a closing curly bracket **}**.\n",
        "2.   Set items are separated by commas.\n",
        "\n"
      ]
    },
    {
      "cell_type": "code",
      "metadata": {
        "id": "DX6DbVhigDRD",
        "colab_type": "code",
        "colab": {}
      },
      "source": [
        "# Use a set to store all items player holds\n",
        "inventory = set()\n",
        "print(inventory)\n",
        "\n",
        "inventory = {'tea', 'coffee'}  # each item is unique!\n",
        "print(inventory)"
      ],
      "execution_count": 0,
      "outputs": []
    },
    {
      "cell_type": "code",
      "metadata": {
        "id": "89uTq12ip7N6",
        "colab_type": "code",
        "colab": {}
      },
      "source": [
        "# Extend game map to allow multiple neighbors and items\n",
        "game_map = {\n",
        "  'mpr': {\n",
        "    'neighbors': {'pantry'},\n",
        "    'items': set()\n",
        "  },\n",
        "  'pantry': {\n",
        "    'neighbors': {'mpr', 'frontdesk'},\n",
        "    'items': {'coffee'}\n",
        "  }\n",
        "}"
      ],
      "execution_count": 0,
      "outputs": []
    },
    {
      "cell_type": "markdown",
      "metadata": {
        "id": "0oo9JpnghX5Q",
        "colab_type": "text"
      },
      "source": [
        "*set* collection type comes with its own list of methods. \n"
      ]
    },
    {
      "cell_type": "code",
      "metadata": {
        "id": "sVmO7ORLmMW2",
        "colab_type": "code",
        "colab": {}
      },
      "source": [
        "inventory = set()\n",
        "\n",
        "inventory.add('coffee')  # add item to set\n",
        "print(inventory)\n",
        "\n",
        "inventory.remove('coffee')  # remove item from set\n",
        "print(inventory)\n",
        "\n",
        "print(inventory)  # print a set"
      ],
      "execution_count": 0,
      "outputs": []
    },
    {
      "cell_type": "markdown",
      "metadata": {
        "id": "9M1N__A-nz1R",
        "colab_type": "text"
      },
      "source": [
        "To check if an *item* is inside a *set*, use the `in` and `not in` operators."
      ]
    },
    {
      "cell_type": "code",
      "metadata": {
        "id": "rFJOA0annxnE",
        "colab_type": "code",
        "colab": {}
      },
      "source": [
        "game_map = {\n",
        "  'mpr': {\n",
        "    'neighbors': {'pantry'},\n",
        "    'items': set()\n",
        "  },\n",
        "  'pantry': {\n",
        "    'neighbors': {'mpr', 'frontdesk'},\n",
        "    'items': {'coffee'}\n",
        "  }\n",
        "}\n",
        "\n",
        "current_place = 'pantry'\n",
        "\n",
        "if 'coffee' in game_map[current_place]['items']:\n",
        "  print('There is coffee in', current_place)\n",
        "if 'badge' not in game_map[current_place]['items']:\n",
        "  print('There is no badge in', current_place)"
      ],
      "execution_count": 0,
      "outputs": []
    },
    {
      "cell_type": "markdown",
      "metadata": {
        "id": "8-BZpidYolBe",
        "colab_type": "text"
      },
      "source": [
        "Use `issubset` to check whether every item in a set is also in another set."
      ]
    },
    {
      "cell_type": "code",
      "metadata": {
        "id": "j1C5X6NCoxSN",
        "colab_type": "code",
        "colab": {}
      },
      "source": [
        "inventory = {'coffee'}\n",
        "exit_items = {'badge', 'coffee'}\n",
        "\n",
        "if exit_items.issubset(inventory):\n",
        "  print('You collected all items!')\n",
        "else:\n",
        "  print('You need', exit_items, 'to leave.')"
      ],
      "execution_count": 0,
      "outputs": []
    },
    {
      "cell_type": "markdown",
      "metadata": {
        "id": "45SgPtMWsvz3",
        "colab_type": "text"
      },
      "source": [
        "### Hands On Exercise 3\n"
      ]
    },
    {
      "cell_type": "markdown",
      "metadata": {
        "id": "kZcY1uR2sylO",
        "colab_type": "text"
      },
      "source": [
        "\n",
        "\n",
        "Finish 'GET \\<ITEM\\>' handling:\n",
        "> In Section 4.4, remove the temporary print message added in Exercise 1. Implement 'GET \\<ITEM\\>' logic following the flow chart at the begining of this note.\n",
        "\n"
      ]
    },
    {
      "cell_type": "markdown",
      "metadata": {
        "id": "MPG7VF3ruMZv",
        "colab_type": "text"
      },
      "source": [
        "Exercise answer is [here](https://trinket.io/python3/6d380648e4)"
      ]
    },
    {
      "cell_type": "markdown",
      "metadata": {
        "id": "N9pwUr_ZuYBk",
        "colab_type": "text"
      },
      "source": [
        "### Hands On Exercise 4\n"
      ]
    },
    {
      "cell_type": "markdown",
      "metadata": {
        "id": "eM6QTk2HufEO",
        "colab_type": "text"
      },
      "source": [
        "Allow winning ONLY when player has all `exit_items`:\n",
        "\n",
        "\n",
        "\n",
        "> Follow game logic listed in the flow chart at the beginning of this note, modify Section 4.6 to only let player win if they have collected all `exit_items`.\n"
      ]
    },
    {
      "cell_type": "markdown",
      "metadata": {
        "id": "La8haFftvPdB",
        "colab_type": "text"
      },
      "source": [
        "Exercise answer is [here](https://trinket.io/python3/4e27a3be32)"
      ]
    },
    {
      "cell_type": "markdown",
      "metadata": {
        "id": "AssvNUjs-ReA",
        "colab_type": "text"
      },
      "source": [
        "### Bonus Exercises\n"
      ]
    },
    {
      "cell_type": "markdown",
      "metadata": {
        "id": "JgsKQMlH-eDY",
        "colab_type": "text"
      },
      "source": [
        "1. Only display missing items when player fails to exit.\n",
        "\n",
        "\n",
        "> Currently, when player arrives at exit but do not have all exit items needed, the game prints out all items they need to leave. Can you change the code so that it only tells player what item(s) is missing from their inventory? \n",
        "\n",
        "2. Monsters!\n",
        "\n",
        "\n",
        "> Can you think of a way to introduce monsters in some rooms, \n",
        "\n"
      ]
    },
    {
      "cell_type": "markdown",
      "metadata": {
        "id": "3GuHKJb0vDtr",
        "colab_type": "text"
      },
      "source": [
        "# Build Your Own Game\n"
      ]
    },
    {
      "cell_type": "markdown",
      "metadata": {
        "id": "B08TV5nGvKXm",
        "colab_type": "text"
      },
      "source": [
        "Design and draw your own game map, and translate this into `game_map`! "
      ]
    }
  ]
}